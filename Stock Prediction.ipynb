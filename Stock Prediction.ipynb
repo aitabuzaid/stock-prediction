{
 "cells": [
  {
   "cell_type": "markdown",
   "metadata": {},
   "source": [
    "# Stock Prediction Using Regression"
   ]
  },
  {
   "cell_type": "code",
   "execution_count": 380,
   "metadata": {},
   "outputs": [],
   "source": [
    "import numpy as np\n",
    "import pandas as pd\n",
    "import sklearn\n",
    "import pandas_datareader.data as dr\n",
    "import numpy\n",
    "import datetime as dt\n",
    "import matplotlib.pyplot as plt"
   ]
  },
  {
   "cell_type": "code",
   "execution_count": 381,
   "metadata": {},
   "outputs": [],
   "source": [
    "start = dt.datetime(2010, 1, 1)\n",
    "end = dt.datetime(2019, 7, 21)\n",
    "\n",
    "df = dr.DataReader(\"AAPL\", 'yahoo', start, end)"
   ]
  },
  {
   "cell_type": "code",
   "execution_count": 382,
   "metadata": {},
   "outputs": [
    {
     "data": {
      "image/png": "[encoded data removed]",
      "text/plain": [
       "<Figure size 432x288 with 1 Axes>"
      ]
     },
     "metadata": {
      "needs_background": "light"
     },
     "output_type": "display_data"
    }
   ],
   "source": [
    "df[\"Adj Close\"].plot();"
   ]
  },
  {
   "cell_type": "markdown",
   "metadata": {},
   "source": [
    "## Feature Engineering"
   ]
  },
  {
   "cell_type": "code",
   "execution_count": 383,
   "metadata": {},
   "outputs": [],
   "source": [
    "df['HighLowPer'] = 100 * (df['High'] - df['Low']) / df['Close']\n",
    "df['ChangePer'] = 100 * (df['Close'] - df['Open']) / df['Open']\n",
    "#df = df.loc[:, ['HighLowPer', 'ChangePer', 'Volume', 'Adj Close']]"
   ]
  },
  {
   "cell_type": "code",
   "execution_count": 384,
   "metadata": {},
   "outputs": [],
   "source": [
    "from sklearn.preprocessing import MinMaxScaler\n",
    "df.describe()\n",
    "df.shape\n",
    "\n",
    "scaler = MinMaxScaler()\n",
    "#df = pd.DataFrame(scaler.fit_transform(df), columns = df.columns)"
   ]
  },
  {
   "cell_type": "code",
   "execution_count": 385,
   "metadata": {},
   "outputs": [
    {
     "name": "stdout",
     "output_type": "stream",
     "text": [
      "(2372,)\n",
      "(2372, 8)\n"
     ]
    }
   ],
   "source": [
    "leave_out = 30  # days\n",
    "y = df['Adj Close'].shift(-leave_out)[0:-leave_out]\n",
    "#df.drop(['Adj Close'], axis = 1, inplace = True)\n",
    "X = df[:-leave_out]\n",
    "\n",
    "X_test = df[-leave_out:]\n",
    "\n",
    "\n",
    "\n",
    "print(y.shape)\n",
    "print(X.shape)\n",
    "\n"
   ]
  },
  {
   "cell_type": "code",
   "execution_count": 386,
   "metadata": {},
   "outputs": [
    {
     "name": "stdout",
     "output_type": "stream",
     "text": [
      "(30, 8)\n",
      "(30,)\n"
     ]
    }
   ],
   "source": [
    "print(X_test.shape)\n",
    "start = dt.datetime(2019, 7, 23)\n",
    "end = dt.datetime(2019, 9, 3)\n",
    "\n",
    "df_test = dr.DataReader(\"AAPL\", 'yahoo', start, end)\n",
    "y_test = df_test['Adj Close']\n",
    "\n",
    "print(y_test.shape)"
   ]
  },
  {
   "cell_type": "code",
   "execution_count": 387,
   "metadata": {},
   "outputs": [],
   "source": [
    "from sklearn.model_selection import train_test_split\n",
    "X_train, X_val, y_train, y_val = train_test_split(np.array(X), \n",
    "                                                  np.array(y), \n",
    "                                                  test_size = 0.2)"
   ]
  },
  {
   "cell_type": "code",
   "execution_count": 388,
   "metadata": {},
   "outputs": [
    {
     "name": "stderr",
     "output_type": "stream",
     "text": [
      "/home/aitabuzaid/venv/local/lib/python3.6/site-packages/sklearn/ensemble/forest.py:245: FutureWarning: The default value of n_estimators will change from 10 in version 0.20 to 100 in 0.22.\n",
      "  \"10 in version 0.20 to 100 in 0.22.\", FutureWarning)\n"
     ]
    }
   ],
   "source": [
    "from sklearn.linear_model import LinearRegression\n",
    "from sklearn.tree import DecisionTreeRegressor\n",
    "from sklearn.ensemble import RandomForestRegressor\n",
    "from sklearn.metrics import r2_score\n",
    "\n",
    "reg_lin = LinearRegression()\n",
    "reg_lin.fit(X_train, y_train)\n",
    "pred_lin = reg_lin.predict(X_val)\n",
    "r2_lin = r2_score(y_val, pred_lin)\n",
    "\n",
    "reg_dt = DecisionTreeRegressor()\n",
    "reg_dt.fit(X_train, y_train)\n",
    "pred_dt = reg_dt.predict(X_val)\n",
    "r2_dt = r2_score(y_val, pred_dt)\n",
    "\n",
    "reg_rf = RandomForestRegressor()\n",
    "reg_rf.fit(X_train, y_train)\n",
    "pred_rf = reg_rf.predict(X_val)\n",
    "r2_rf = r2_score(y_val, pred_rf)"
   ]
  },
  {
   "cell_type": "code",
   "execution_count": 389,
   "metadata": {},
   "outputs": [
    {
     "name": "stdout",
     "output_type": "stream",
     "text": [
      "0.9606304670719334 0.9432026332367904 0.9712016908114861\n"
     ]
    }
   ],
   "source": [
    "print(r2_lin, r2_dt, r2_rf)"
   ]
  },
  {
   "cell_type": "code",
   "execution_count": 390,
   "metadata": {},
   "outputs": [],
   "source": [
    "future_pred = reg_rf.predict(X_test)"
   ]
  },
  {
   "cell_type": "code",
   "execution_count": 391,
   "metadata": {},
   "outputs": [
    {
     "data": {
      "text/plain": [
       "-3.5355943044432063"
      ]
     },
     "execution_count": 391,
     "metadata": {},
     "output_type": "execute_result"
    }
   ],
   "source": [
    "r2_score(future_pred, y_test)"
   ]
  },
  {
   "cell_type": "code",
   "execution_count": 392,
   "metadata": {},
   "outputs": [],
   "source": [
    "df_test['Adj Close Pred'] = future_pred\n"
   ]
  },
  {
   "cell_type": "code",
   "execution_count": 393,
   "metadata": {},
   "outputs": [
    {
     "data": {
      "text/plain": [
       "[<matplotlib.lines.Line2D at 0x7f44aec79be0>]"
      ]
     },
     "execution_count": 393,
     "metadata": {},
     "output_type": "execute_result"
    },
    {
     "data": {
      "image/png": "[encoded data removed]",
      "text/plain": [
       "<Figure size 432x288 with 1 Axes>"
      ]
     },
     "metadata": {
      "needs_background": "light"
     },
     "output_type": "display_data"
    }
   ],
   "source": [
    "import matplotlib.pyplot as plt\n",
    "plt.figure()\n",
    "plt.plot(df['Adj Close'][-60:])\n",
    "\n",
    "df_test.loc[df['Adj Close'].index[-1]] = df['Adj Close'][-1]\n",
    "df_test.sort_index(inplace=True)\n",
    "\n",
    "plt.plot(df_test['Adj Close'])\n",
    "plt.plot(df_test['Adj Close Pred'])\n"
   ]
  }
 ],
 "metadata": {
  "kernelspec": {
   "display_name": "Python 3",
   "language": "python",
   "name": "python3"
  },
  "language_info": {
   "codemirror_mode": {
    "name": "ipython",
    "version": 3
   },
   "file_extension": ".py",
   "mimetype": "text/x-python",
   "name": "python",
   "nbconvert_exporter": "python",
   "pygments_lexer": "ipython3",
   "version": "3.6.8"
  }
 },
 "nbformat": 4,
 "nbformat_minor": 2
}
