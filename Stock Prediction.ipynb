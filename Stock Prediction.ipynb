{
 "cells": [
  {
   "cell_type": "markdown",
   "metadata": {},
   "source": [
    "# Stock Prediction Using Regression"
   ]
  },
  {
   "cell_type": "code",
   "execution_count": 380,
   "metadata": {},
   "outputs": [],
   "source": [
    "import numpy as np\n",
    "import pandas as pd\n",
    "import sklearn\n",
    "import pandas_datareader.data as dr\n",
    "import numpy\n",
    "import datetime as dt\n",
    "import matplotlib.pyplot as plt"
   ]
  },
  {
   "cell_type": "markdown",
   "metadata": {},
   "source": [
    "## Loding the data \n",
    "Using the pandas_datareader library, we loaded the Apple stock price statistics for the past 10 years. I excluded the last ~30 days in order to include it in the test data."
   ]
  },
  {
   "cell_type": "code",
   "execution_count": 453,
   "metadata": {},
   "outputs": [
    {
     "name": "stdout",
     "output_type": "stream",
     "text": [
      "Dataframe head:\n"
     ]
    },
    {
     "data": {
      "text/html": [
       "<div>\n",
       "<style scoped>\n",
       "    .dataframe tbody tr th:only-of-type {\n",
       "        vertical-align: middle;\n",
       "    }\n",
       "\n",
       "    .dataframe tbody tr th {\n",
       "        vertical-align: top;\n",
       "    }\n",
       "\n",
       "    .dataframe thead th {\n",
       "        text-align: right;\n",
       "    }\n",
       "</style>\n",
       "<table border=\"1\" class=\"dataframe\">\n",
       "  <thead>\n",
       "    <tr style=\"text-align: right;\">\n",
       "      <th></th>\n",
       "      <th>High</th>\n",
       "      <th>Low</th>\n",
       "      <th>Open</th>\n",
       "      <th>Close</th>\n",
       "      <th>Volume</th>\n",
       "      <th>Adj Close</th>\n",
       "    </tr>\n",
       "    <tr>\n",
       "      <th>Date</th>\n",
       "      <th></th>\n",
       "      <th></th>\n",
       "      <th></th>\n",
       "      <th></th>\n",
       "      <th></th>\n",
       "      <th></th>\n",
       "    </tr>\n",
       "  </thead>\n",
       "  <tbody>\n",
       "    <tr>\n",
       "      <th>2010-01-04</th>\n",
       "      <td>30.642857</td>\n",
       "      <td>30.340000</td>\n",
       "      <td>30.490000</td>\n",
       "      <td>30.572857</td>\n",
       "      <td>123432400.0</td>\n",
       "      <td>26.681330</td>\n",
       "    </tr>\n",
       "    <tr>\n",
       "      <th>2010-01-05</th>\n",
       "      <td>30.798571</td>\n",
       "      <td>30.464285</td>\n",
       "      <td>30.657143</td>\n",
       "      <td>30.625713</td>\n",
       "      <td>150476200.0</td>\n",
       "      <td>26.727465</td>\n",
       "    </tr>\n",
       "    <tr>\n",
       "      <th>2010-01-06</th>\n",
       "      <td>30.747143</td>\n",
       "      <td>30.107143</td>\n",
       "      <td>30.625713</td>\n",
       "      <td>30.138571</td>\n",
       "      <td>138040000.0</td>\n",
       "      <td>26.302330</td>\n",
       "    </tr>\n",
       "    <tr>\n",
       "      <th>2010-01-07</th>\n",
       "      <td>30.285715</td>\n",
       "      <td>29.864286</td>\n",
       "      <td>30.250000</td>\n",
       "      <td>30.082857</td>\n",
       "      <td>119282800.0</td>\n",
       "      <td>26.253704</td>\n",
       "    </tr>\n",
       "    <tr>\n",
       "      <th>2010-01-08</th>\n",
       "      <td>30.285715</td>\n",
       "      <td>29.865715</td>\n",
       "      <td>30.042856</td>\n",
       "      <td>30.282858</td>\n",
       "      <td>111902700.0</td>\n",
       "      <td>26.428249</td>\n",
       "    </tr>\n",
       "  </tbody>\n",
       "</table>\n",
       "</div>"
      ],
      "text/plain": [
       "                 High        Low       Open      Close       Volume  Adj Close\n",
       "Date                                                                          \n",
       "2010-01-04  30.642857  30.340000  30.490000  30.572857  123432400.0  26.681330\n",
       "2010-01-05  30.798571  30.464285  30.657143  30.625713  150476200.0  26.727465\n",
       "2010-01-06  30.747143  30.107143  30.625713  30.138571  138040000.0  26.302330\n",
       "2010-01-07  30.285715  29.864286  30.250000  30.082857  119282800.0  26.253704\n",
       "2010-01-08  30.285715  29.865715  30.042856  30.282858  111902700.0  26.428249"
      ]
     },
     "metadata": {},
     "output_type": "display_data"
    },
    {
     "name": "stdout",
     "output_type": "stream",
     "text": [
      "Dataframe tail:\n"
     ]
    },
    {
     "data": {
      "text/html": [
       "<div>\n",
       "<style scoped>\n",
       "    .dataframe tbody tr th:only-of-type {\n",
       "        vertical-align: middle;\n",
       "    }\n",
       "\n",
       "    .dataframe tbody tr th {\n",
       "        vertical-align: top;\n",
       "    }\n",
       "\n",
       "    .dataframe thead th {\n",
       "        text-align: right;\n",
       "    }\n",
       "</style>\n",
       "<table border=\"1\" class=\"dataframe\">\n",
       "  <thead>\n",
       "    <tr style=\"text-align: right;\">\n",
       "      <th></th>\n",
       "      <th>High</th>\n",
       "      <th>Low</th>\n",
       "      <th>Open</th>\n",
       "      <th>Close</th>\n",
       "      <th>Volume</th>\n",
       "      <th>Adj Close</th>\n",
       "    </tr>\n",
       "    <tr>\n",
       "      <th>Date</th>\n",
       "      <th></th>\n",
       "      <th></th>\n",
       "      <th></th>\n",
       "      <th></th>\n",
       "      <th></th>\n",
       "      <th></th>\n",
       "    </tr>\n",
       "  </thead>\n",
       "  <tbody>\n",
       "    <tr>\n",
       "      <th>2019-07-15</th>\n",
       "      <td>205.869995</td>\n",
       "      <td>204.000000</td>\n",
       "      <td>204.089996</td>\n",
       "      <td>205.210007</td>\n",
       "      <td>16947400.0</td>\n",
       "      <td>204.433273</td>\n",
       "    </tr>\n",
       "    <tr>\n",
       "      <th>2019-07-16</th>\n",
       "      <td>206.110001</td>\n",
       "      <td>203.500000</td>\n",
       "      <td>204.589996</td>\n",
       "      <td>204.500000</td>\n",
       "      <td>16866800.0</td>\n",
       "      <td>203.725952</td>\n",
       "    </tr>\n",
       "    <tr>\n",
       "      <th>2019-07-17</th>\n",
       "      <td>205.089996</td>\n",
       "      <td>203.270004</td>\n",
       "      <td>204.050003</td>\n",
       "      <td>203.350006</td>\n",
       "      <td>14107500.0</td>\n",
       "      <td>202.580307</td>\n",
       "    </tr>\n",
       "    <tr>\n",
       "      <th>2019-07-18</th>\n",
       "      <td>205.880005</td>\n",
       "      <td>203.699997</td>\n",
       "      <td>204.000000</td>\n",
       "      <td>205.660004</td>\n",
       "      <td>18582200.0</td>\n",
       "      <td>204.881561</td>\n",
       "    </tr>\n",
       "    <tr>\n",
       "      <th>2019-07-19</th>\n",
       "      <td>206.500000</td>\n",
       "      <td>202.360001</td>\n",
       "      <td>205.789993</td>\n",
       "      <td>202.589996</td>\n",
       "      <td>20929300.0</td>\n",
       "      <td>201.823181</td>\n",
       "    </tr>\n",
       "  </tbody>\n",
       "</table>\n",
       "</div>"
      ],
      "text/plain": [
       "                  High         Low        Open       Close      Volume  \\\n",
       "Date                                                                     \n",
       "2019-07-15  205.869995  204.000000  204.089996  205.210007  16947400.0   \n",
       "2019-07-16  206.110001  203.500000  204.589996  204.500000  16866800.0   \n",
       "2019-07-17  205.089996  203.270004  204.050003  203.350006  14107500.0   \n",
       "2019-07-18  205.880005  203.699997  204.000000  205.660004  18582200.0   \n",
       "2019-07-19  206.500000  202.360001  205.789993  202.589996  20929300.0   \n",
       "\n",
       "             Adj Close  \n",
       "Date                    \n",
       "2019-07-15  204.433273  \n",
       "2019-07-16  203.725952  \n",
       "2019-07-17  202.580307  \n",
       "2019-07-18  204.881561  \n",
       "2019-07-19  201.823181  "
      ]
     },
     "metadata": {},
     "output_type": "display_data"
    }
   ],
   "source": [
    "start = dt.datetime(2010, 1, 1)\n",
    "end = dt.datetime(2019, 7, 21)\n",
    "\n",
    "df = dr.DataReader(\"AAPL\", 'yahoo', start, end)\n",
    "\n",
    "print(\"Dataframe head:\")\n",
    "display(df.head())\n",
    "\n",
    "print(\"Dataframe tail:\")\n",
    "display(df.tail())"
   ]
  },
  {
   "cell_type": "code",
   "execution_count": 382,
   "metadata": {},
   "outputs": [
    {
     "data": {
      "image/png": "[encoded data removed]",
      "text/plain": [
       "<Figure size 432x288 with 1 Axes>"
      ]
     },
     "metadata": {
      "needs_background": "light"
     },
     "output_type": "display_data"
    }
   ],
   "source": [
    "df[\"Adj Close\"].plot();"
   ]
  },
  {
   "cell_type": "markdown",
   "metadata": {},
   "source": [
    "## Feature Engineering\n",
    "\n",
    "Added two more features to the data:\n",
    "* The high to low percentage change for each trading day\n",
    "* The percentage change from begining to end for each trading day"
   ]
  },
  {
   "cell_type": "code",
   "execution_count": 455,
   "metadata": {},
   "outputs": [],
   "source": [
    "df['HighLowPer'] = 100 * (df['High'] - df['Low']) / df['Close']\n",
    "df['ChangePer'] = 100 * (df['Close'] - df['Open']) / df['Open']"
   ]
  },
  {
   "cell_type": "markdown",
   "metadata": {},
   "source": [
    "The summarized statistics for each feature in the data can be calculated simply using the describe method."
   ]
  },
  {
   "cell_type": "code",
   "execution_count": 456,
   "metadata": {},
   "outputs": [
    {
     "data": {
      "text/html": [
       "<div>\n",
       "<style scoped>\n",
       "    .dataframe tbody tr th:only-of-type {\n",
       "        vertical-align: middle;\n",
       "    }\n",
       "\n",
       "    .dataframe tbody tr th {\n",
       "        vertical-align: top;\n",
       "    }\n",
       "\n",
       "    .dataframe thead th {\n",
       "        text-align: right;\n",
       "    }\n",
       "</style>\n",
       "<table border=\"1\" class=\"dataframe\">\n",
       "  <thead>\n",
       "    <tr style=\"text-align: right;\">\n",
       "      <th></th>\n",
       "      <th>High</th>\n",
       "      <th>Low</th>\n",
       "      <th>Open</th>\n",
       "      <th>Close</th>\n",
       "      <th>Volume</th>\n",
       "      <th>Adj Close</th>\n",
       "      <th>HighLowPer</th>\n",
       "      <th>ChangePer</th>\n",
       "    </tr>\n",
       "  </thead>\n",
       "  <tbody>\n",
       "    <tr>\n",
       "      <th>count</th>\n",
       "      <td>2402.000000</td>\n",
       "      <td>2402.000000</td>\n",
       "      <td>2402.000000</td>\n",
       "      <td>2402.000000</td>\n",
       "      <td>2.402000e+03</td>\n",
       "      <td>2402.000000</td>\n",
       "      <td>2402.000000</td>\n",
       "      <td>2402.000000</td>\n",
       "    </tr>\n",
       "    <tr>\n",
       "      <th>mean</th>\n",
       "      <td>105.257767</td>\n",
       "      <td>103.369846</td>\n",
       "      <td>104.330868</td>\n",
       "      <td>104.337951</td>\n",
       "      <td>7.716680e+07</td>\n",
       "      <td>98.075045</td>\n",
       "      <td>1.867837</td>\n",
       "      <td>-0.000169</td>\n",
       "    </tr>\n",
       "    <tr>\n",
       "      <th>std</th>\n",
       "      <td>50.121809</td>\n",
       "      <td>49.298222</td>\n",
       "      <td>49.683231</td>\n",
       "      <td>49.720494</td>\n",
       "      <td>5.920738e+07</td>\n",
       "      <td>50.842294</td>\n",
       "      <td>1.126361</td>\n",
       "      <td>1.282497</td>\n",
       "    </tr>\n",
       "    <tr>\n",
       "      <th>min</th>\n",
       "      <td>28.000000</td>\n",
       "      <td>27.178572</td>\n",
       "      <td>27.481428</td>\n",
       "      <td>27.435715</td>\n",
       "      <td>1.136200e+07</td>\n",
       "      <td>23.943514</td>\n",
       "      <td>0.415020</td>\n",
       "      <td>-6.633069</td>\n",
       "    </tr>\n",
       "    <tr>\n",
       "      <th>25%</th>\n",
       "      <td>64.123213</td>\n",
       "      <td>62.891430</td>\n",
       "      <td>63.435715</td>\n",
       "      <td>63.301786</td>\n",
       "      <td>3.254165e+07</td>\n",
       "      <td>56.209198</td>\n",
       "      <td>1.152255</td>\n",
       "      <td>-0.720349</td>\n",
       "    </tr>\n",
       "    <tr>\n",
       "      <th>50%</th>\n",
       "      <td>97.684998</td>\n",
       "      <td>95.819286</td>\n",
       "      <td>96.810001</td>\n",
       "      <td>96.775002</td>\n",
       "      <td>5.877475e+07</td>\n",
       "      <td>90.257355</td>\n",
       "      <td>1.631669</td>\n",
       "      <td>0.040353</td>\n",
       "    </tr>\n",
       "    <tr>\n",
       "      <th>75%</th>\n",
       "      <td>138.462494</td>\n",
       "      <td>136.962502</td>\n",
       "      <td>137.762501</td>\n",
       "      <td>138.287495</td>\n",
       "      <td>1.048166e+08</td>\n",
       "      <td>133.072086</td>\n",
       "      <td>2.290872</td>\n",
       "      <td>0.746319</td>\n",
       "    </tr>\n",
       "    <tr>\n",
       "      <th>max</th>\n",
       "      <td>233.470001</td>\n",
       "      <td>229.779999</td>\n",
       "      <td>230.779999</td>\n",
       "      <td>232.070007</td>\n",
       "      <td>4.702495e+08</td>\n",
       "      <td>228.523819</td>\n",
       "      <td>23.959393</td>\n",
       "      <td>8.696110</td>\n",
       "    </tr>\n",
       "  </tbody>\n",
       "</table>\n",
       "</div>"
      ],
      "text/plain": [
       "              High          Low         Open        Close        Volume  \\\n",
       "count  2402.000000  2402.000000  2402.000000  2402.000000  2.402000e+03   \n",
       "mean    105.257767   103.369846   104.330868   104.337951  7.716680e+07   \n",
       "std      50.121809    49.298222    49.683231    49.720494  5.920738e+07   \n",
       "min      28.000000    27.178572    27.481428    27.435715  1.136200e+07   \n",
       "25%      64.123213    62.891430    63.435715    63.301786  3.254165e+07   \n",
       "50%      97.684998    95.819286    96.810001    96.775002  5.877475e+07   \n",
       "75%     138.462494   136.962502   137.762501   138.287495  1.048166e+08   \n",
       "max     233.470001   229.779999   230.779999   232.070007  4.702495e+08   \n",
       "\n",
       "         Adj Close   HighLowPer    ChangePer  \n",
       "count  2402.000000  2402.000000  2402.000000  \n",
       "mean     98.075045     1.867837    -0.000169  \n",
       "std      50.842294     1.126361     1.282497  \n",
       "min      23.943514     0.415020    -6.633069  \n",
       "25%      56.209198     1.152255    -0.720349  \n",
       "50%      90.257355     1.631669     0.040353  \n",
       "75%     133.072086     2.290872     0.746319  \n",
       "max     228.523819    23.959393     8.696110  "
      ]
     },
     "execution_count": 456,
     "metadata": {},
     "output_type": "execute_result"
    }
   ],
   "source": [
    "df.describe()"
   ]
  },
  {
   "cell_type": "markdown",
   "metadata": {},
   "source": [
    "## Splitting Data\n",
    "Splitting data into X and y and loading final test data (the last 30 days of trading)"
   ]
  },
  {
   "cell_type": "code",
   "execution_count": 458,
   "metadata": {},
   "outputs": [],
   "source": [
    "leave_out = 30  # days\n",
    "y = df['Adj Close'].shift(-leave_out)[0:-leave_out]\n",
    "X = df[:-leave_out]\n",
    "X_test = df[-leave_out:]\n",
    "\n",
    "start = dt.datetime(2019, 7, 23)\n",
    "end = dt.datetime(2019, 9, 3)\n",
    "\n",
    "df_test = dr.DataReader(\"AAPL\", 'yahoo', start, end)\n",
    "y_test = df_test['Adj Close']"
   ]
  },
  {
   "cell_type": "markdown",
   "metadata": {},
   "source": [
    "## Training and Validation Split\n",
    "\n",
    "We use an 80/20 training versus validation split."
   ]
  },
  {
   "cell_type": "code",
   "execution_count": 460,
   "metadata": {},
   "outputs": [],
   "source": [
    "from sklearn.model_selection import train_test_split\n",
    "X_train, X_val, y_train, y_val = train_test_split(np.array(X), \n",
    "                                                  np.array(y), \n",
    "                                                  test_size = 0.2)"
   ]
  },
  {
   "cell_type": "markdown",
   "metadata": {},
   "source": [
    "## Training the Regression Models"
   ]
  },
  {
   "cell_type": "code",
   "execution_count": 461,
   "metadata": {},
   "outputs": [
    {
     "name": "stderr",
     "output_type": "stream",
     "text": [
      "/home/aitabuzaid/venv/local/lib/python3.6/site-packages/sklearn/ensemble/forest.py:245: FutureWarning: The default value of n_estimators will change from 10 in version 0.20 to 100 in 0.22.\n",
      "  \"10 in version 0.20 to 100 in 0.22.\", FutureWarning)\n"
     ]
    }
   ],
   "source": [
    "from sklearn.linear_model import LinearRegression\n",
    "from sklearn.tree import DecisionTreeRegressor\n",
    "from sklearn.ensemble import RandomForestRegressor\n",
    "from sklearn.metrics import r2_score\n",
    "\n",
    "reg_lin = LinearRegression()\n",
    "reg_lin.fit(X_train, y_train)\n",
    "pred_lin = reg_lin.predict(X_val)\n",
    "r2_lin = r2_score(y_val, pred_lin)\n",
    "\n",
    "reg_dt = DecisionTreeRegressor()\n",
    "reg_dt.fit(X_train, y_train)\n",
    "pred_dt = reg_dt.predict(X_val)\n",
    "r2_dt = r2_score(y_val, pred_dt)\n",
    "\n",
    "reg_rf = RandomForestRegressor()\n",
    "reg_rf.fit(X_train, y_train)\n",
    "pred_rf = reg_rf.predict(X_val)\n",
    "r2_rf = r2_score(y_val, pred_rf)"
   ]
  },
  {
   "cell_type": "markdown",
   "metadata": {},
   "source": [
    "## Performance on Validation Data\n",
    "Performs well on training and validation data "
   ]
  },
  {
   "cell_type": "code",
   "execution_count": 467,
   "metadata": {},
   "outputs": [
    {
     "name": "stdout",
     "output_type": "stream",
     "text": [
      "R2 score for validation data using the linear regression model: 0.957\n",
      "R2 score for validation data using the decision tree model: 0.950\n",
      "R2 score for validation data using the random forest model: 0.965\n"
     ]
    }
   ],
   "source": [
    "print('R2 score for validation data using the linear regression model: {:04.3f}'.format(r2_lin))\n",
    "print('R2 score for validation data using the decision tree model: {:04.3f}'.format(r2_dt))\n",
    "print('R2 score for validation data using the random forest model: {:04.3f}'.format(r2_rf))"
   ]
  },
  {
   "cell_type": "code",
   "execution_count": 468,
   "metadata": {},
   "outputs": [],
   "source": [
    "future_pred = reg_rf.predict(X_test)"
   ]
  },
  {
   "cell_type": "markdown",
   "metadata": {},
   "source": [
    "## Performance on Test Data\n",
    "...And very poorly on unseen test data (a sign of overfitting)"
   ]
  },
  {
   "cell_type": "code",
   "execution_count": 469,
   "metadata": {},
   "outputs": [
    {
     "name": "stdout",
     "output_type": "stream",
     "text": [
      "R2 score for test data using the random forest model: -4.962\n"
     ]
    }
   ],
   "source": [
    "print('R2 score for test data using the random forest model: {:04.3f}'.format(r2_score(future_pred, y_test)))"
   ]
  },
  {
   "cell_type": "code",
   "execution_count": 471,
   "metadata": {},
   "outputs": [],
   "source": [
    "df_test['Adj Close Pred'] = future_pred"
   ]
  },
  {
   "cell_type": "markdown",
   "metadata": {},
   "source": [
    "## Plotting Future Stock Prediction\n",
    "The actual versus the predicted cost for the last thirty days are plotted below. As can be seen, a regression model trained on historical stock price data is not capable of predicting future stock data. I hypothesize that stock prices depend on external data that are not included in the current model. Multiple concerns can be identified:\n",
    "* The model does not consider that stock prices are time series data and as such, using more advanced algorithms such as LSTM or Reinforcement Learning is critical.\n",
    "* The model only considers historical price data for training. The model should be improved by using sentiment analysis on news, twitter, and other publications related to the stock market. "
   ]
  },
  {
   "cell_type": "code",
   "execution_count": 472,
   "metadata": {},
   "outputs": [
    {
     "data": {
      "image/png": "[encoded data removed]",
      "text/plain": [
       "<Figure size 432x288 with 1 Axes>"
      ]
     },
     "metadata": {},
     "output_type": "display_data"
    }
   ],
   "source": [
    "import matplotlib.pyplot as plt\n",
    "\n",
    "fig = plt.figure(1)\n",
    "ax = fig.add_subplot(111)\n",
    "\n",
    "plt.style.use('ggplot')\n",
    "\n",
    "pt = plt.plot(df['Adj Close'][-60:], label='Actual Prices (Train data)')\n",
    "\n",
    "df_test.loc[df['Adj Close'].index[-1]] = df['Adj Close'][-1]\n",
    "df_test.sort_index(inplace=True)\n",
    "\n",
    "plt.plot(df_test['Adj Close'], label='Actual Prices (Test data)')\n",
    "plt.plot(df_test['Adj Close Pred'], label='Predicted Prices')\n",
    "ax.tick_params(axis ='x', rotation =45) \n",
    "plt.legend();\n"
   ]
  }
 ],
 "metadata": {
  "kernelspec": {
   "display_name": "Python 3",
   "language": "python",
   "name": "python3"
  },
  "language_info": {
   "codemirror_mode": {
    "name": "ipython",
    "version": 3
   },
   "file_extension": ".py",
   "mimetype": "text/x-python",
   "name": "python",
   "nbconvert_exporter": "python",
   "pygments_lexer": "ipython3",
   "version": "3.6.8"
  }
 },
 "nbformat": 4,
 "nbformat_minor": 2
}
