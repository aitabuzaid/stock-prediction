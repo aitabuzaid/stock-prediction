{
 "cells": [
  {
   "cell_type": "markdown",
   "metadata": {},
   "source": [
    "# Stock Prediction Using Regression"
   ]
  },
  {
   "cell_type": "code",
   "execution_count": 380,
   "metadata": {},
   "outputs": [],
   "source": [
    "import numpy as np\n",
    "import pandas as pd\n",
    "import sklearn\n",
    "import pandas_datareader.data as dr\n",
    "import numpy\n",
    "import datetime as dt\n",
    "import matplotlib.pyplot as plt"
   ]
  },
  {
   "cell_type": "markdown",
   "metadata": {},
   "source": [
    "## Loding the data "
   ]
  },
  {
   "cell_type": "code",
   "execution_count": 381,
   "metadata": {},
   "outputs": [],
   "source": [
    "start = dt.datetime(2010, 1, 1)\n",
    "end = dt.datetime(2019, 7, 21)\n",
    "\n",
    "df = dr.DataReader(\"AAPL\", 'yahoo', start, end)"
   ]
  },
  {
   "cell_type": "code",
   "execution_count": 382,
   "metadata": {},
   "outputs": [
    {
     "data": {
      "image/png": "[encoded data removed]",
      "text/plain": [
       "<Figure size 432x288 with 1 Axes>"
      ]
     },
     "metadata": {
      "needs_background": "light"
     },
     "output_type": "display_data"
    }
   ],
   "source": [
    "df[\"Adj Close\"].plot();"
   ]
  },
  {
   "cell_type": "markdown",
   "metadata": {},
   "source": [
    "## Feature Engineering"
   ]
  },
  {
   "cell_type": "code",
   "execution_count": 383,
   "metadata": {},
   "outputs": [],
   "source": [
    "df['HighLowPer'] = 100 * (df['High'] - df['Low']) / df['Close']\n",
    "df['ChangePer'] = 100 * (df['Close'] - df['Open']) / df['Open']\n",
    "#df = df.loc[:, ['HighLowPer', 'ChangePer', 'Volume', 'Adj Close']]"
   ]
  },
  {
   "cell_type": "code",
   "execution_count": 445,
   "metadata": {},
   "outputs": [
    {
     "data": {
      "text/html": [
       "<div>\n",
       "<style scoped>\n",
       "    .dataframe tbody tr th:only-of-type {\n",
       "        vertical-align: middle;\n",
       "    }\n",
       "\n",
       "    .dataframe tbody tr th {\n",
       "        vertical-align: top;\n",
       "    }\n",
       "\n",
       "    .dataframe thead th {\n",
       "        text-align: right;\n",
       "    }\n",
       "</style>\n",
       "<table border=\"1\" class=\"dataframe\">\n",
       "  <thead>\n",
       "    <tr style=\"text-align: right;\">\n",
       "      <th></th>\n",
       "      <th>High</th>\n",
       "      <th>Low</th>\n",
       "      <th>Open</th>\n",
       "      <th>Close</th>\n",
       "      <th>Volume</th>\n",
       "      <th>Adj Close</th>\n",
       "      <th>HighLowPer</th>\n",
       "      <th>ChangePer</th>\n",
       "    </tr>\n",
       "  </thead>\n",
       "  <tbody>\n",
       "    <tr>\n",
       "      <th>count</th>\n",
       "      <td>2402.000000</td>\n",
       "      <td>2402.000000</td>\n",
       "      <td>2402.000000</td>\n",
       "      <td>2402.000000</td>\n",
       "      <td>2.402000e+03</td>\n",
       "      <td>2402.000000</td>\n",
       "      <td>2402.000000</td>\n",
       "      <td>2402.000000</td>\n",
       "    </tr>\n",
       "    <tr>\n",
       "      <th>mean</th>\n",
       "      <td>105.257767</td>\n",
       "      <td>103.369846</td>\n",
       "      <td>104.330868</td>\n",
       "      <td>104.337951</td>\n",
       "      <td>7.716680e+07</td>\n",
       "      <td>98.075045</td>\n",
       "      <td>1.867837</td>\n",
       "      <td>-0.000169</td>\n",
       "    </tr>\n",
       "    <tr>\n",
       "      <th>std</th>\n",
       "      <td>50.121809</td>\n",
       "      <td>49.298222</td>\n",
       "      <td>49.683231</td>\n",
       "      <td>49.720494</td>\n",
       "      <td>5.920738e+07</td>\n",
       "      <td>50.842294</td>\n",
       "      <td>1.126361</td>\n",
       "      <td>1.282497</td>\n",
       "    </tr>\n",
       "    <tr>\n",
       "      <th>min</th>\n",
       "      <td>28.000000</td>\n",
       "      <td>27.178572</td>\n",
       "      <td>27.481428</td>\n",
       "      <td>27.435715</td>\n",
       "      <td>1.136200e+07</td>\n",
       "      <td>23.943514</td>\n",
       "      <td>0.415020</td>\n",
       "      <td>-6.633069</td>\n",
       "    </tr>\n",
       "    <tr>\n",
       "      <th>25%</th>\n",
       "      <td>64.123213</td>\n",
       "      <td>62.891430</td>\n",
       "      <td>63.435715</td>\n",
       "      <td>63.301786</td>\n",
       "      <td>3.254165e+07</td>\n",
       "      <td>56.209198</td>\n",
       "      <td>1.152255</td>\n",
       "      <td>-0.720349</td>\n",
       "    </tr>\n",
       "    <tr>\n",
       "      <th>50%</th>\n",
       "      <td>97.684998</td>\n",
       "      <td>95.819286</td>\n",
       "      <td>96.810001</td>\n",
       "      <td>96.775002</td>\n",
       "      <td>5.877475e+07</td>\n",
       "      <td>90.257355</td>\n",
       "      <td>1.631669</td>\n",
       "      <td>0.040353</td>\n",
       "    </tr>\n",
       "    <tr>\n",
       "      <th>75%</th>\n",
       "      <td>138.462494</td>\n",
       "      <td>136.962502</td>\n",
       "      <td>137.762501</td>\n",
       "      <td>138.287495</td>\n",
       "      <td>1.048166e+08</td>\n",
       "      <td>133.072086</td>\n",
       "      <td>2.290872</td>\n",
       "      <td>0.746319</td>\n",
       "    </tr>\n",
       "    <tr>\n",
       "      <th>max</th>\n",
       "      <td>233.470001</td>\n",
       "      <td>229.779999</td>\n",
       "      <td>230.779999</td>\n",
       "      <td>232.070007</td>\n",
       "      <td>4.702495e+08</td>\n",
       "      <td>228.523819</td>\n",
       "      <td>23.959393</td>\n",
       "      <td>8.696110</td>\n",
       "    </tr>\n",
       "  </tbody>\n",
       "</table>\n",
       "</div>"
      ],
      "text/plain": [
       "              High          Low         Open        Close        Volume  \\\n",
       "count  2402.000000  2402.000000  2402.000000  2402.000000  2.402000e+03   \n",
       "mean    105.257767   103.369846   104.330868   104.337951  7.716680e+07   \n",
       "std      50.121809    49.298222    49.683231    49.720494  5.920738e+07   \n",
       "min      28.000000    27.178572    27.481428    27.435715  1.136200e+07   \n",
       "25%      64.123213    62.891430    63.435715    63.301786  3.254165e+07   \n",
       "50%      97.684998    95.819286    96.810001    96.775002  5.877475e+07   \n",
       "75%     138.462494   136.962502   137.762501   138.287495  1.048166e+08   \n",
       "max     233.470001   229.779999   230.779999   232.070007  4.702495e+08   \n",
       "\n",
       "         Adj Close   HighLowPer    ChangePer  \n",
       "count  2402.000000  2402.000000  2402.000000  \n",
       "mean     98.075045     1.867837    -0.000169  \n",
       "std      50.842294     1.126361     1.282497  \n",
       "min      23.943514     0.415020    -6.633069  \n",
       "25%      56.209198     1.152255    -0.720349  \n",
       "50%      90.257355     1.631669     0.040353  \n",
       "75%     133.072086     2.290872     0.746319  \n",
       "max     228.523819    23.959393     8.696110  "
      ]
     },
     "execution_count": 445,
     "metadata": {},
     "output_type": "execute_result"
    }
   ],
   "source": [
    "#from sklearn.preprocessing import MinMaxScaler\n",
    "df.describe()\n",
    "\n",
    "#scaler = MinMaxScaler()\n",
    "#df = pd.DataFrame(scaler.fit_transform(df), columns = df.columns)"
   ]
  },
  {
   "cell_type": "markdown",
   "metadata": {},
   "source": [
    "## Splitting data into X and y, and loading final test data "
   ]
  },
  {
   "cell_type": "code",
   "execution_count": 446,
   "metadata": {},
   "outputs": [],
   "source": [
    "leave_out = 30  # days\n",
    "y = df['Adj Close'].shift(-leave_out)[0:-leave_out]\n",
    "#df.drop(['Adj Close'], axis = 1, inplace = True)\n",
    "X = df[:-leave_out]\n",
    "\n",
    "X_test = df[-leave_out:]"
   ]
  },
  {
   "cell_type": "code",
   "execution_count": 447,
   "metadata": {},
   "outputs": [],
   "source": [
    "\n",
    "start = dt.datetime(2019, 7, 23)\n",
    "end = dt.datetime(2019, 9, 3)\n",
    "\n",
    "df_test = dr.DataReader(\"AAPL\", 'yahoo', start, end)\n",
    "y_test = df_test['Adj Close']\n",
    "\n"
   ]
  },
  {
   "cell_type": "markdown",
   "metadata": {},
   "source": [
    "## Splitting data into training and validation"
   ]
  },
  {
   "cell_type": "code",
   "execution_count": 387,
   "metadata": {},
   "outputs": [],
   "source": [
    "from sklearn.model_selection import train_test_split\n",
    "X_train, X_val, y_train, y_val = train_test_split(np.array(X), \n",
    "                                                  np.array(y), \n",
    "                                                  test_size = 0.2)"
   ]
  },
  {
   "cell_type": "markdown",
   "metadata": {},
   "source": [
    "## Training the Regression Models"
   ]
  },
  {
   "cell_type": "code",
   "execution_count": 388,
   "metadata": {},
   "outputs": [
    {
     "name": "stderr",
     "output_type": "stream",
     "text": [
      "/home/aitabuzaid/venv/local/lib/python3.6/site-packages/sklearn/ensemble/forest.py:245: FutureWarning: The default value of n_estimators will change from 10 in version 0.20 to 100 in 0.22.\n",
      "  \"10 in version 0.20 to 100 in 0.22.\", FutureWarning)\n"
     ]
    }
   ],
   "source": [
    "from sklearn.linear_model import LinearRegression\n",
    "from sklearn.tree import DecisionTreeRegressor\n",
    "from sklearn.ensemble import RandomForestRegressor\n",
    "from sklearn.metrics import r2_score\n",
    "\n",
    "reg_lin = LinearRegression()\n",
    "reg_lin.fit(X_train, y_train)\n",
    "pred_lin = reg_lin.predict(X_val)\n",
    "r2_lin = r2_score(y_val, pred_lin)\n",
    "\n",
    "reg_dt = DecisionTreeRegressor()\n",
    "reg_dt.fit(X_train, y_train)\n",
    "pred_dt = reg_dt.predict(X_val)\n",
    "r2_dt = r2_score(y_val, pred_dt)\n",
    "\n",
    "reg_rf = RandomForestRegressor()\n",
    "reg_rf.fit(X_train, y_train)\n",
    "pred_rf = reg_rf.predict(X_val)\n",
    "r2_rf = r2_score(y_val, pred_rf)"
   ]
  },
  {
   "cell_type": "markdown",
   "metadata": {},
   "source": [
    "## Performs well on training and validation data "
   ]
  },
  {
   "cell_type": "code",
   "execution_count": 389,
   "metadata": {},
   "outputs": [
    {
     "name": "stdout",
     "output_type": "stream",
     "text": [
      "0.9606304670719334 0.9432026332367904 0.9712016908114861\n"
     ]
    }
   ],
   "source": [
    "print(r2_lin, r2_dt, r2_rf)"
   ]
  },
  {
   "cell_type": "code",
   "execution_count": 390,
   "metadata": {},
   "outputs": [],
   "source": [
    "future_pred = reg_rf.predict(X_test)"
   ]
  },
  {
   "cell_type": "markdown",
   "metadata": {},
   "source": [
    "## And very poorly on unseen test data (overfitting)"
   ]
  },
  {
   "cell_type": "code",
   "execution_count": 391,
   "metadata": {},
   "outputs": [
    {
     "data": {
      "text/plain": [
       "-3.5355943044432063"
      ]
     },
     "execution_count": 391,
     "metadata": {},
     "output_type": "execute_result"
    }
   ],
   "source": [
    "r2_score(future_pred, y_test)"
   ]
  },
  {
   "cell_type": "code",
   "execution_count": 392,
   "metadata": {},
   "outputs": [],
   "source": [
    "df_test['Adj Close Pred'] = future_pred\n"
   ]
  },
  {
   "cell_type": "markdown",
   "metadata": {},
   "source": [
    "## Plotting future stock prediction"
   ]
  },
  {
   "cell_type": "code",
   "execution_count": 444,
   "metadata": {},
   "outputs": [
    {
     "data": {
      "image/png": "[encoded data removed]",
      "text/plain": [
       "<Figure size 432x288 with 1 Axes>"
      ]
     },
     "metadata": {},
     "output_type": "display_data"
    }
   ],
   "source": [
    "import matplotlib.pyplot as plt\n",
    "\n",
    "fig = plt.figure(1)\n",
    "ax = fig.add_subplot(111)\n",
    "\n",
    "plt.style.use('ggplot')\n",
    "\n",
    "pt = plt.plot(df['Adj Close'][-60:], label='Actual Prices (Train data)')\n",
    "\n",
    "df_test.loc[df['Adj Close'].index[-1]] = df['Adj Close'][-1]\n",
    "df_test.sort_index(inplace=True)\n",
    "\n",
    "plt.plot(df_test['Adj Close'], label='Actual Prices (Test data)')\n",
    "plt.plot(df_test['Adj Close Pred'], label='Predicted Prices')\n",
    "ax.tick_params(axis ='x', rotation =45) \n",
    "plt.legend();\n"
   ]
  }
 ],
 "metadata": {
  "kernelspec": {
   "display_name": "Python 3",
   "language": "python",
   "name": "python3"
  },
  "language_info": {
   "codemirror_mode": {
    "name": "ipython",
    "version": 3
   },
   "file_extension": ".py",
   "mimetype": "text/x-python",
   "name": "python",
   "nbconvert_exporter": "python",
   "pygments_lexer": "ipython3",
   "version": "3.6.8"
  }
 },
 "nbformat": 4,
 "nbformat_minor": 2
}
