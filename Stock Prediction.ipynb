{
 "cells": [
  {
   "cell_type": "markdown",
   "metadata": {},
   "source": [
    "# Stock Prediction Using Regression"
   ]
  },
  {
   "cell_type": "code",
   "execution_count": 76,
   "metadata": {},
   "outputs": [],
   "source": [
    "import sklearn\n",
    "import pandas_datareader.data as dr\n",
    "import numpy\n",
    "import datetime as dt\n",
    "import matplotlib.pyplot as plt"
   ]
  },
  {
   "cell_type": "code",
   "execution_count": 77,
   "metadata": {},
   "outputs": [],
   "source": [
    "start = dt.datetime(2010, 1, 1)\n",
    "end = dt.datetime(2019, 8, 31)\n",
    "\n",
    "df = dr.DataReader(\"TSLA\", 'yahoo', start, end)"
   ]
  },
  {
   "cell_type": "code",
   "execution_count": 78,
   "metadata": {},
   "outputs": [
    {
     "data": {
      "image/png": "[encoded data removed]",
      "text/plain": [
       "<Figure size 432x288 with 1 Axes>"
      ]
     },
     "metadata": {
      "needs_background": "light"
     },
     "output_type": "display_data"
    }
   ],
   "source": [
    "df[\"Adj Close\"].plot();"
   ]
  },
  {
   "cell_type": "markdown",
   "metadata": {},
   "source": [
    "## Feature Engineering"
   ]
  },
  {
   "cell_type": "code",
   "execution_count": 79,
   "metadata": {},
   "outputs": [],
   "source": [
    "\n",
    "df['HighLowPer'] = 100 * (df['High'] - df['Low']) / df['Close']\n",
    "df['ChangePer'] = 100 * (df['Close'] - df['Open']) / df['Open']\n",
    "df = df.loc[:, ['HighLowPer', 'ChangePer', 'Volume', 'Adj Close']]"
   ]
  },
  {
   "cell_type": "code",
   "execution_count": 80,
   "metadata": {},
   "outputs": [
    {
     "data": {
      "text/html": [
       "<div>\n",
       "<style scoped>\n",
       "    .dataframe tbody tr th:only-of-type {\n",
       "        vertical-align: middle;\n",
       "    }\n",
       "\n",
       "    .dataframe tbody tr th {\n",
       "        vertical-align: top;\n",
       "    }\n",
       "\n",
       "    .dataframe thead th {\n",
       "        text-align: right;\n",
       "    }\n",
       "</style>\n",
       "<table border=\"1\" class=\"dataframe\">\n",
       "  <thead>\n",
       "    <tr style=\"text-align: right;\">\n",
       "      <th></th>\n",
       "      <th>HighLowPer</th>\n",
       "      <th>ChangePer</th>\n",
       "      <th>Volume</th>\n",
       "      <th>Adj Close</th>\n",
       "    </tr>\n",
       "  </thead>\n",
       "  <tbody>\n",
       "    <tr>\n",
       "      <th>count</th>\n",
       "      <td>2310.000000</td>\n",
       "      <td>2310.000000</td>\n",
       "      <td>2.310000e+03</td>\n",
       "      <td>2310.000000</td>\n",
       "    </tr>\n",
       "    <tr>\n",
       "      <th>mean</th>\n",
       "      <td>3.926099</td>\n",
       "      <td>-0.001123</td>\n",
       "      <td>5.315643e+06</td>\n",
       "      <td>178.744762</td>\n",
       "    </tr>\n",
       "    <tr>\n",
       "      <th>std</th>\n",
       "      <td>2.380046</td>\n",
       "      <td>2.757467</td>\n",
       "      <td>4.671984e+06</td>\n",
       "      <td>113.555702</td>\n",
       "    </tr>\n",
       "    <tr>\n",
       "      <th>min</th>\n",
       "      <td>0.909335</td>\n",
       "      <td>-19.753517</td>\n",
       "      <td>1.185000e+05</td>\n",
       "      <td>15.800000</td>\n",
       "    </tr>\n",
       "    <tr>\n",
       "      <th>25%</th>\n",
       "      <td>2.469594</td>\n",
       "      <td>-1.463892</td>\n",
       "      <td>1.721875e+06</td>\n",
       "      <td>33.782499</td>\n",
       "    </tr>\n",
       "    <tr>\n",
       "      <th>50%</th>\n",
       "      <td>3.385125</td>\n",
       "      <td>-0.053057</td>\n",
       "      <td>4.381800e+06</td>\n",
       "      <td>208.080002</td>\n",
       "    </tr>\n",
       "    <tr>\n",
       "      <th>75%</th>\n",
       "      <td>4.664487</td>\n",
       "      <td>1.431548</td>\n",
       "      <td>7.131575e+06</td>\n",
       "      <td>261.300003</td>\n",
       "    </tr>\n",
       "    <tr>\n",
       "      <th>max</th>\n",
       "      <td>31.226452</td>\n",
       "      <td>25.736839</td>\n",
       "      <td>3.716390e+07</td>\n",
       "      <td>385.000000</td>\n",
       "    </tr>\n",
       "  </tbody>\n",
       "</table>\n",
       "</div>"
      ],
      "text/plain": [
       "        HighLowPer    ChangePer        Volume    Adj Close\n",
       "count  2310.000000  2310.000000  2.310000e+03  2310.000000\n",
       "mean      3.926099    -0.001123  5.315643e+06   178.744762\n",
       "std       2.380046     2.757467  4.671984e+06   113.555702\n",
       "min       0.909335   -19.753517  1.185000e+05    15.800000\n",
       "25%       2.469594    -1.463892  1.721875e+06    33.782499\n",
       "50%       3.385125    -0.053057  4.381800e+06   208.080002\n",
       "75%       4.664487     1.431548  7.131575e+06   261.300003\n",
       "max      31.226452    25.736839  3.716390e+07   385.000000"
      ]
     },
     "execution_count": 80,
     "metadata": {},
     "output_type": "execute_result"
    }
   ],
   "source": [
    "df.describe()"
   ]
  },
  {
   "cell_type": "code",
   "execution_count": 81,
   "metadata": {},
   "outputs": [],
   "source": [
    "testing_per = 0.01\n",
    "y = df['Adj Close']\n",
    "df.drop(['Adj Close'], axis = 1, inplace = True)\n",
    "X = df\n",
    "\n",
    "#int(len(df))"
   ]
  }
 ],
 "metadata": {
  "kernelspec": {
   "display_name": "Python 3",
   "language": "python",
   "name": "python3"
  },
  "language_info": {
   "codemirror_mode": {
    "name": "ipython",
    "version": 3
   },
   "file_extension": ".py",
   "mimetype": "text/x-python",
   "name": "python",
   "nbconvert_exporter": "python",
   "pygments_lexer": "ipython3",
   "version": "3.6.8"
  }
 },
 "nbformat": 4,
 "nbformat_minor": 2
}
